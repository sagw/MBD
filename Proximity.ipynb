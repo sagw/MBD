{
 "cells": [
  {
   "cell_type": "code",
   "execution_count": 1,
   "metadata": {},
   "outputs": [
    {
     "name": "stderr",
     "output_type": "stream",
     "text": [
      "Loading required package: data.table\n",
      "\n",
      "Loading required package: ggplot2\n",
      "\n",
      "Loading required package: RColorBrewer\n",
      "\n"
     ]
    }
   ],
   "source": [
    "require(data.table)\n",
    "require(ggplot2)\n",
    "require(RColorBrewer)\n",
    "options(repr.plot.width=20, repr.plot.height=15)"
   ]
  },
  {
   "cell_type": "code",
   "execution_count": 2,
   "metadata": {},
   "outputs": [],
   "source": [
    "coverage=read.csv(\"~/Documents/Lenfest/MPA_Gaps_Overview_Figure_CSV/coverage_ecoregion_MPA.csv\")\n",
    "prox=read.csv(\"~/Documents/Lenfest/MPA_Gaps_Overview_Figure_CSV/proximity_nearest5.csv\")"
   ]
  },
  {
   "cell_type": "code",
   "execution_count": 4,
   "metadata": {},
   "outputs": [
    {
     "name": "stdout",
     "output_type": "stream",
     "text": [
      "   Ecoregion_ID     MPA_Near5_Mean  FP_MPA_Near5_Mean\n",
      "1             0 18.652293510449034 39.550878682078526\n",
      "2             1 34.048017897092976 58.156499828514896\n",
      "3             2  582.7374037826963                 --\n",
      "4             3                 --                 --\n",
      "5             4  21.05658037876012 140.36942795943887\n",
      "6             5                 --                 --\n",
      "7             6 415.53283280169177                 --\n",
      "8             7 196.49832177081834 303.91313541756296\n",
      "9             8 17.282766069276644  77.06808572222633\n",
      "10            9 19.287752136055722 164.67721996451976\n",
      "11           10   16.0179256889885  58.28808823823406\n",
      "12           11 20.312836094535175 148.26134349037827\n",
      "13           12                 --                 --\n",
      "14           13 126.34872706311134 228.41335730528542\n",
      "15           14 26.489828882953915 26.489828904327574\n",
      "16           15                 --                 --\n",
      "17           16  14.55519413119112  30.96161547838086\n",
      "18           17 22.393527477064097 244.73344045457551\n",
      "19           18                 --                 --\n",
      "20           19 17.027468666237397 17.027468669389886\n",
      "21           20 14.942574608430464 22.399879183673967\n",
      "22           21 13.037704934855265 24.202918073362998\n",
      "23           22                 --                 --\n",
      "24           23 15.949144610689931  353.0681996359541\n",
      "25           24                 --                 --\n",
      "                              NAME\n",
      "1                   All Ecoregions\n",
      "2                 Acadian Atlantic\n",
      "3        Alaskan/Fjordland Pacific\n",
      "4             Aleutian Archipelago\n",
      "5                   American Samoa\n",
      "6                     Arctic Basin\n",
      "7            Beaufort/Chukchi Seas\n",
      "8                       Bering Sea\n",
      "9                    Caribbean Sea\n",
      "10             Carolinian Atlantic\n",
      "11               Columbian Pacific\n",
      "12              Guam and Mariannas\n",
      "13                     Gulf Stream\n",
      "14            Hawaiian Archipelago\n",
      "15       Howland and Baker Islands\n",
      "16                   Jarvis Island\n",
      "17   Montereyan Pacific Transition\n",
      "18         Northern Gulf of Mexico\n",
      "19 Northern Gulf Stream Transition\n",
      "20                   Palmyra Atoll\n",
      "21 South Florida/Bahamian Atlantic\n",
      "22    Southern Californian Pacific\n",
      "23         Southern Gulf of Mexico\n",
      "24              Virginian Atlantic\n",
      "25                     Wake Island\n"
     ]
    }
   ],
   "source": [
    "print(prox)"
   ]
  },
  {
   "cell_type": "code",
   "execution_count": null,
   "metadata": {},
   "outputs": [],
   "source": []
  }
 ],
 "metadata": {
  "kernelspec": {
   "display_name": "R",
   "language": "R",
   "name": "ir"
  },
  "language_info": {
   "codemirror_mode": "r",
   "file_extension": ".r",
   "mimetype": "text/x-r-source",
   "name": "R",
   "pygments_lexer": "r",
   "version": "4.1.0"
  }
 },
 "nbformat": 4,
 "nbformat_minor": 4
}

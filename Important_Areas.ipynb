{
 "cells": [
  {
   "cell_type": "code",
   "execution_count": 1,
   "metadata": {},
   "outputs": [
    {
     "name": "stderr",
     "output_type": "stream",
     "text": [
      "Loading required package: data.table\n",
      "\n",
      "Loading required package: ggplot2\n",
      "\n",
      "Loading required package: RColorBrewer\n",
      "\n"
     ]
    }
   ],
   "source": [
    "require(data.table)\n",
    "require(ggplot2)\n",
    "require(RColorBrewer)\n",
    "options(repr.plot.width=20, repr.plot.height=15)"
   ]
  },
  {
   "cell_type": "code",
   "execution_count": 2,
   "metadata": {},
   "outputs": [],
   "source": [
    "BIA=read.csv(\"~/Documents/Lenfest/MPA_Gaps_Overview_Figure_CSV/bia_coverage_ecoregion_MPA.csv\")\n",
    "coverage=read.csv(\"~/Documents/Lenfest/MPA_Gaps_Overview_Figure_CSV/coverage_ecoregion_MPA.csv\")\n",
    "IBA=read.csv(\"~/Documents/Lenfest/MPA_Gaps_Overview_Figure_CSV/IBA_coverage_ecoregion_MPA.csv\")\n"
   ]
  },
  {
   "cell_type": "code",
   "execution_count": 3,
   "metadata": {},
   "outputs": [
    {
     "data": {
      "text/html": [
       "<table class=\"dataframe\">\n",
       "<caption>A data.frame: 6 × 9</caption>\n",
       "<thead>\n",
       "\t<tr><th></th><th scope=col>Ecoregion_ID</th><th scope=col>NAME</th><th scope=col>ER.Area</th><th scope=col>BIA.Area.in.ER</th><th scope=col>BIA.Area.in.MPA</th><th scope=col>BIA.Area.in.FP.MPA</th><th scope=col>PCT.of.ER.Covered.by.BIA</th><th scope=col>PCT.of.ER.BIA.in.MPA</th><th scope=col>PCT.of.ER.BIA.in.FP.MPA</th></tr>\n",
       "\t<tr><th></th><th scope=col>&lt;int&gt;</th><th scope=col>&lt;chr&gt;</th><th scope=col>&lt;dbl&gt;</th><th scope=col>&lt;dbl&gt;</th><th scope=col>&lt;chr&gt;</th><th scope=col>&lt;chr&gt;</th><th scope=col>&lt;dbl&gt;</th><th scope=col>&lt;chr&gt;</th><th scope=col>&lt;chr&gt;</th></tr>\n",
       "</thead>\n",
       "<tbody>\n",
       "\t<tr><th scope=row>1</th><td> 0</td><td>All Ecoregions           </td><td>9068498.9</td><td>1641152.0</td><td>73205.91071489664 </td><td>10439.718714553837</td><td>18.09728</td><td>4.46064163992918   </td><td>0.636121367148168     </td></tr>\n",
       "\t<tr><th scope=row>2</th><td> 7</td><td>Bering Sea               </td><td>1295111.9</td><td> 560624.0</td><td>5532.621860762756 </td><td>422.48949016744876</td><td>43.28769</td><td>0.9868685597694999 </td><td>0.07536058042141683   </td></tr>\n",
       "\t<tr><th scope=row>3</th><td> 2</td><td>Alaskan/Fjordland Pacific</td><td>1701319.8</td><td> 247348.5</td><td>6149.1028621666865</td><td>922.8420151256245 </td><td>14.53862</td><td>2.486008070259114  </td><td>0.3730938884258814    </td></tr>\n",
       "\t<tr><th scope=row>4</th><td> 6</td><td>Beaufort/Chukchi Seas    </td><td> 276280.3</td><td> 144164.2</td><td>66.53053767595065 </td><td>--                </td><td>52.18043</td><td>0.04614912620663708</td><td>--                    </td></tr>\n",
       "\t<tr><th scope=row>5</th><td>23</td><td>Virginian Atlantic       </td><td> 154701.7</td><td> 128400.7</td><td>2450.955287049337 </td><td>0.2774688154745049</td><td>82.99891</td><td>1.9088326010805055 </td><td>0.00021609595391621866</td></tr>\n",
       "\t<tr><th scope=row>6</th><td> 9</td><td>Carolinian Atlantic      </td><td> 127879.1</td><td> 102249.5</td><td>1061.319421245253 </td><td>7.032192774939981 </td><td>79.95791</td><td>1.0379707757667644 </td><td>0.0068774870635851335 </td></tr>\n",
       "</tbody>\n",
       "</table>\n"
      ],
      "text/latex": [
       "A data.frame: 6 × 9\n",
       "\\begin{tabular}{r|lllllllll}\n",
       "  & Ecoregion\\_ID & NAME & ER.Area & BIA.Area.in.ER & BIA.Area.in.MPA & BIA.Area.in.FP.MPA & PCT.of.ER.Covered.by.BIA & PCT.of.ER.BIA.in.MPA & PCT.of.ER.BIA.in.FP.MPA\\\\\n",
       "  & <int> & <chr> & <dbl> & <dbl> & <chr> & <chr> & <dbl> & <chr> & <chr>\\\\\n",
       "\\hline\n",
       "\t1 &  0 & All Ecoregions            & 9068498.9 & 1641152.0 & 73205.91071489664  & 10439.718714553837 & 18.09728 & 4.46064163992918    & 0.636121367148168     \\\\\n",
       "\t2 &  7 & Bering Sea                & 1295111.9 &  560624.0 & 5532.621860762756  & 422.48949016744876 & 43.28769 & 0.9868685597694999  & 0.07536058042141683   \\\\\n",
       "\t3 &  2 & Alaskan/Fjordland Pacific & 1701319.8 &  247348.5 & 6149.1028621666865 & 922.8420151256245  & 14.53862 & 2.486008070259114   & 0.3730938884258814    \\\\\n",
       "\t4 &  6 & Beaufort/Chukchi Seas     &  276280.3 &  144164.2 & 66.53053767595065  & --                 & 52.18043 & 0.04614912620663708 & --                    \\\\\n",
       "\t5 & 23 & Virginian Atlantic        &  154701.7 &  128400.7 & 2450.955287049337  & 0.2774688154745049 & 82.99891 & 1.9088326010805055  & 0.00021609595391621866\\\\\n",
       "\t6 &  9 & Carolinian Atlantic       &  127879.1 &  102249.5 & 1061.319421245253  & 7.032192774939981  & 79.95791 & 1.0379707757667644  & 0.0068774870635851335 \\\\\n",
       "\\end{tabular}\n"
      ],
      "text/markdown": [
       "\n",
       "A data.frame: 6 × 9\n",
       "\n",
       "| <!--/--> | Ecoregion_ID &lt;int&gt; | NAME &lt;chr&gt; | ER.Area &lt;dbl&gt; | BIA.Area.in.ER &lt;dbl&gt; | BIA.Area.in.MPA &lt;chr&gt; | BIA.Area.in.FP.MPA &lt;chr&gt; | PCT.of.ER.Covered.by.BIA &lt;dbl&gt; | PCT.of.ER.BIA.in.MPA &lt;chr&gt; | PCT.of.ER.BIA.in.FP.MPA &lt;chr&gt; |\n",
       "|---|---|---|---|---|---|---|---|---|---|\n",
       "| 1 |  0 | All Ecoregions            | 9068498.9 | 1641152.0 | 73205.91071489664  | 10439.718714553837 | 18.09728 | 4.46064163992918    | 0.636121367148168      |\n",
       "| 2 |  7 | Bering Sea                | 1295111.9 |  560624.0 | 5532.621860762756  | 422.48949016744876 | 43.28769 | 0.9868685597694999  | 0.07536058042141683    |\n",
       "| 3 |  2 | Alaskan/Fjordland Pacific | 1701319.8 |  247348.5 | 6149.1028621666865 | 922.8420151256245  | 14.53862 | 2.486008070259114   | 0.3730938884258814     |\n",
       "| 4 |  6 | Beaufort/Chukchi Seas     |  276280.3 |  144164.2 | 66.53053767595065  | --                 | 52.18043 | 0.04614912620663708 | --                     |\n",
       "| 5 | 23 | Virginian Atlantic        |  154701.7 |  128400.7 | 2450.955287049337  | 0.2774688154745049 | 82.99891 | 1.9088326010805055  | 0.00021609595391621866 |\n",
       "| 6 |  9 | Carolinian Atlantic       |  127879.1 |  102249.5 | 1061.319421245253  | 7.032192774939981  | 79.95791 | 1.0379707757667644  | 0.0068774870635851335  |\n",
       "\n"
      ],
      "text/plain": [
       "  Ecoregion_ID NAME                      ER.Area   BIA.Area.in.ER\n",
       "1  0           All Ecoregions            9068498.9 1641152.0     \n",
       "2  7           Bering Sea                1295111.9  560624.0     \n",
       "3  2           Alaskan/Fjordland Pacific 1701319.8  247348.5     \n",
       "4  6           Beaufort/Chukchi Seas      276280.3  144164.2     \n",
       "5 23           Virginian Atlantic         154701.7  128400.7     \n",
       "6  9           Carolinian Atlantic        127879.1  102249.5     \n",
       "  BIA.Area.in.MPA    BIA.Area.in.FP.MPA PCT.of.ER.Covered.by.BIA\n",
       "1 73205.91071489664  10439.718714553837 18.09728                \n",
       "2 5532.621860762756  422.48949016744876 43.28769                \n",
       "3 6149.1028621666865 922.8420151256245  14.53862                \n",
       "4 66.53053767595065  --                 52.18043                \n",
       "5 2450.955287049337  0.2774688154745049 82.99891                \n",
       "6 1061.319421245253  7.032192774939981  79.95791                \n",
       "  PCT.of.ER.BIA.in.MPA PCT.of.ER.BIA.in.FP.MPA\n",
       "1 4.46064163992918     0.636121367148168      \n",
       "2 0.9868685597694999   0.07536058042141683    \n",
       "3 2.486008070259114    0.3730938884258814     \n",
       "4 0.04614912620663708  --                     \n",
       "5 1.9088326010805055   0.00021609595391621866 \n",
       "6 1.0379707757667644   0.0068774870635851335  "
      ]
     },
     "metadata": {},
     "output_type": "display_data"
    }
   ],
   "source": [
    "head(BIA)"
   ]
  },
  {
   "cell_type": "code",
   "execution_count": null,
   "metadata": {},
   "outputs": [],
   "source": []
  }
 ],
 "metadata": {
  "kernelspec": {
   "display_name": "R",
   "language": "R",
   "name": "ir"
  },
  "language_info": {
   "codemirror_mode": "r",
   "file_extension": ".r",
   "mimetype": "text/x-r-source",
   "name": "R",
   "pygments_lexer": "r",
   "version": "4.1.0"
  }
 },
 "nbformat": 4,
 "nbformat_minor": 4
}
